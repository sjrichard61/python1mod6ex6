{
 "cells": [
  {
   "cell_type": "markdown",
   "metadata": {},
   "source": [
    "1. Round 4.5667 to the nearest hundreth using a build-in function, round()."
   ]
  },
  {
   "cell_type": "code",
   "execution_count": 2,
   "metadata": {},
   "outputs": [
    {
     "name": "stdout",
     "output_type": "stream",
     "text": [
      "4.57\n"
     ]
    }
   ],
   "source": [
    "print(round(4.5667,2))"
   ]
  },
  {
   "cell_type": "markdown",
   "metadata": {},
   "source": [
    "2. Convert \"657\" to an integer data type"
   ]
  },
  {
   "cell_type": "code",
   "execution_count": 5,
   "metadata": {},
   "outputs": [
    {
     "name": "stdout",
     "output_type": "stream",
     "text": [
      "657\n"
     ]
    }
   ],
   "source": [
    "num1=int(\"657\")\n",
    "print(num1)"
   ]
  },
  {
   "cell_type": "markdown",
   "metadata": {},
   "source": [
    "3.\n",
    "Write a program to get two numbers from a user. Then, create a secret code where a code consists of 6 numbers and each number is randomly generated number between two numbers from a user. "
   ]
  },
  {
   "cell_type": "code",
   "execution_count": 9,
   "metadata": {},
   "outputs": [
    {
     "name": "stdin",
     "output_type": "stream",
     "text": [
      "Enter number for begining of range for sectret code: 1\n",
      "Enter number for end of range for sectret code: 25\n"
     ]
    },
    {
     "name": "stdout",
     "output_type": "stream",
     "text": [
      "Secret Code: 24 12 11 22 16 18\n"
     ]
    }
   ],
   "source": [
    "import random as rand\n",
    "# Get the random number range from user\n",
    "num1 = int(input(\"Enter number for begining of range for sectret code:\"))\n",
    "num2 = int(input(\"Enter number for end of range for sectret code:\"))\n",
    "# Generate and print out a random 6 digit code\n",
    "print(\"Secret Code:\",rand.randint(num1,num2),rand.randint(num1,num2),rand.randint(num1,num2),rand.randint(num1,num2),rand.randint(num1,num2),rand.randint(num1,num2))\n",
    "\n"
   ]
  },
  {
   "cell_type": "markdown",
   "metadata": {},
   "source": [
    "4.\n",
    "Write a program to center align below text where number of characters per line is 40:\n",
    "\n",
    "    Hickory, dickory, dock,\n",
    "    The mouse ran up the clock.\n",
    "    The clock struck one,\n",
    "    The mouse ran down,\n",
    "    Hickory, dickory, dock\n",
    "\n",
    "<b>Do not use string's center method! </b>"
   ]
  },
  {
   "cell_type": "code",
   "execution_count": 37,
   "metadata": {},
   "outputs": [
    {
     "name": "stdout",
     "output_type": "stream",
     "text": [
      "        Hickory, dickory, dock,\n",
      "      The mouse ran up the clock.\n",
      "         The clock struck one,\n",
      "          The mouse ran down,\n",
      "         Hickory, dickory, dock\n",
      "Alternatively:\n",
      "        Hickory, dickory, dock,\n",
      "      The mouse ran up the clock.\n",
      "         The clock struck one,\n",
      "          The mouse ran down,\n",
      "         Hickory, dickory, dock\n"
     ]
    }
   ],
   "source": [
    "line1 = \"Hickory, dickory, dock,\"\n",
    "line2 = \"The mouse ran up the clock.\"\n",
    "line3 = \"The clock struck one,\"\n",
    "line4 = \"The mouse ran down,\"\n",
    "line5 = \"Hickory, dickory, dock\"\n",
    "\n",
    "# Calcualte the number of spaces needed in front of each line to center in a 40 character line\n",
    "space1 = int((40-len(line1))/2)\n",
    "space2 = int((40-len(line2))/2)\n",
    "space3 = int((40-len(line3))/2)\n",
    "space4 = int((40-len(line4))/2)\n",
    "space5 = int((40-len(line5))/2)\n",
    "\n",
    "# print out the lines with the appropriate extra spaces in front to center in 40 character line\n",
    "print(space1*\" \"+line1)\n",
    "print(space2*\" \"+line2)\n",
    "print(space3*\" \"+line3)\n",
    "print(space4*\" \"+line4)\n",
    "print(space5*\" \"+line5)\n",
    "\n",
    "# Alternatively:\n",
    "print(f\"Alternatively:\\n{space1*' '+line1}\\n{space2*' '+line2}\\n{space3*' '+line3}\\n{space4*' '+line4}\\n{space5*' '+line5}\")"
   ]
  },
  {
   "cell_type": "markdown",
   "metadata": {},
   "source": [
    "5. Write a function to calculate the miles per gallon.\n",
    "Get a miles driven and gallons used from a user and call your function to calculate the miles per gallon. "
   ]
  },
  {
   "cell_type": "code",
   "execution_count": 47,
   "metadata": {},
   "outputs": [
    {
     "name": "stdin",
     "output_type": "stream",
     "text": [
      "Enter miles driven: 100\n",
      "Enter gallons of fuel used: 11\n"
     ]
    },
    {
     "name": "stdout",
     "output_type": "stream",
     "text": [
      "Miles per gallon on this trip:  9.09\n"
     ]
    }
   ],
   "source": [
    "# Define function to calculate MPG\n",
    "def mpg (miles,gals) :\n",
    "    mpg = float (miles/gals)\n",
    "    return mpg\n",
    "\n",
    "# Get user input for miles driven and gallons used\n",
    "miles = float(input(\"Enter miles driven:\"))\n",
    "gals = float(input(\"Enter gallons of fuel used:\"))\n",
    "\n",
    "# Print out result by calling fubction to calculate and formatting output\n",
    "print(\"Miles per gallon on this trip: \",round(mpg(miles,gals),2))"
   ]
  },
  {
   "cell_type": "code",
   "execution_count": null,
   "metadata": {},
   "outputs": [],
   "source": []
  }
 ],
 "metadata": {
  "kernelspec": {
   "display_name": "Python 3 (ipykernel)",
   "language": "python",
   "name": "python3"
  },
  "language_info": {
   "codemirror_mode": {
    "name": "ipython",
    "version": 3
   },
   "file_extension": ".py",
   "mimetype": "text/x-python",
   "name": "python",
   "nbconvert_exporter": "python",
   "pygments_lexer": "ipython3",
   "version": "3.11.7"
  }
 },
 "nbformat": 4,
 "nbformat_minor": 4
}
